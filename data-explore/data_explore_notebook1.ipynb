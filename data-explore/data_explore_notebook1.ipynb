{
 "cells": [
  {
   "cell_type": "code",
   "execution_count": 1,
   "metadata": {},
   "outputs": [],
   "source": [
    "import pandas as pd\n",
    "import numpy as np \n",
    "import matplotlib.pyplot as plt\n",
    "import os"
   ]
  },
  {
   "cell_type": "code",
   "execution_count": 2,
   "metadata": {},
   "outputs": [],
   "source": [
    "train_file_path = '../data/raw-data/train.csv'"
   ]
  },
  {
   "cell_type": "code",
   "execution_count": 3,
   "metadata": {},
   "outputs": [],
   "source": [
    "df = pd.read_csv(train_file_path)"
   ]
  },
  {
   "cell_type": "code",
   "execution_count": 4,
   "metadata": {},
   "outputs": [
    {
     "data": {
      "text/plain": [
       "(4459, 4993)"
      ]
     },
     "execution_count": 4,
     "metadata": {},
     "output_type": "execute_result"
    }
   ],
   "source": [
    "df.shape"
   ]
  },
  {
   "cell_type": "markdown",
   "metadata": {},
   "source": [
    "Curse of dimensionality"
   ]
  },
  {
   "cell_type": "code",
   "execution_count": 5,
   "metadata": {},
   "outputs": [],
   "source": [
    "test_file_path = '../data/raw-data/test.csv'"
   ]
  },
  {
   "cell_type": "code",
   "execution_count": 6,
   "metadata": {},
   "outputs": [],
   "source": [
    "df_test = pd.read_csv(test_file_path)"
   ]
  },
  {
   "cell_type": "code",
   "execution_count": 7,
   "metadata": {},
   "outputs": [
    {
     "data": {
      "text/plain": [
       "(49342, 4992)"
      ]
     },
     "execution_count": 7,
     "metadata": {},
     "output_type": "execute_result"
    }
   ],
   "source": [
    "df_test.shape"
   ]
  },
  {
   "cell_type": "markdown",
   "metadata": {},
   "source": [
    "number of examples is test is 10 times that of in train"
   ]
  },
  {
   "cell_type": "code",
   "execution_count": 11,
   "metadata": {},
   "outputs": [
    {
     "data": {
      "text/plain": [
       "Index(['ID', 'target', '48df886f9', '0deb4b6a8', '34b15f335', 'a8cb14b00',\n",
       "       '2f0771a37', '30347e683', 'd08d1fbe3', '6ee66e115',\n",
       "       ...\n",
       "       '3ecc09859', '9281abeea', '8675bec0b', '3a13ed79a', 'f677d4d13',\n",
       "       '71b203550', '137efaa80', 'fb36b89d9', '7e293fbaf', '9fc776466'],\n",
       "      dtype='object', length=4993)"
      ]
     },
     "execution_count": 11,
     "metadata": {},
     "output_type": "execute_result"
    }
   ],
   "source": [
    "df.columns"
   ]
  },
  {
   "cell_type": "code",
   "execution_count": 12,
   "metadata": {},
   "outputs": [
    {
     "data": {
      "text/plain": [
       "Index(['ID', '48df886f9', '0deb4b6a8', '34b15f335', 'a8cb14b00', '2f0771a37',\n",
       "       '30347e683', 'd08d1fbe3', '6ee66e115', '20aa07010',\n",
       "       ...\n",
       "       '3ecc09859', '9281abeea', '8675bec0b', '3a13ed79a', 'f677d4d13',\n",
       "       '71b203550', '137efaa80', 'fb36b89d9', '7e293fbaf', '9fc776466'],\n",
       "      dtype='object', length=4992)"
      ]
     },
     "execution_count": 12,
     "metadata": {},
     "output_type": "execute_result"
    }
   ],
   "source": [
    "df_test.columns"
   ]
  },
  {
   "cell_type": "markdown",
   "metadata": {},
   "source": [
    "featuers are masked"
   ]
  },
  {
   "cell_type": "code",
   "execution_count": 13,
   "metadata": {},
   "outputs": [
    {
     "data": {
      "text/plain": [
       "ID           4459\n",
       "target       1413\n",
       "48df886f9      32\n",
       "0deb4b6a8       5\n",
       "34b15f335      29\n",
       "a8cb14b00       3\n",
       "2f0771a37       6\n",
       "30347e683      25\n",
       "d08d1fbe3       6\n",
       "6ee66e115       6\n",
       "20aa07010     714\n",
       "dc5a8f1d8      56\n",
       "11d86fa6a      86\n",
       "77c9823f2       2\n",
       "8d6c2a0b2       7\n",
       "4681de4fd     236\n",
       "adf119b9a      76\n",
       "cff75dd09      28\n",
       "96f83a237      16\n",
       "b8a716ebf     128\n",
       "6c7a4567c      26\n",
       "4fcfd2b4d       5\n",
       "f3b9c0b95      20\n",
       "71cebf11c      19\n",
       "d966ac62c      40\n",
       "68b647452      94\n",
       "c88d108c9      10\n",
       "ff7b471cd       5\n",
       "d5308d8bc       1\n",
       "0d866c3d7     125\n",
       "             ... \n",
       "cdfc2b069     243\n",
       "2a879b4f7     120\n",
       "6b119d8ce     175\n",
       "98dea9e42       5\n",
       "9f2471031       2\n",
       "88458cb21      11\n",
       "f40da20f4      12\n",
       "7ad6b38bd      91\n",
       "c901e7df1      85\n",
       "8f55955dc       4\n",
       "85dcc913d      60\n",
       "5ca0b9b0c       2\n",
       "eab8abf7a     113\n",
       "8d8bffbae     193\n",
       "2a1f6c7f9      27\n",
       "9437d8b64     260\n",
       "5831f4c76     301\n",
       "2e84e09c5       2\n",
       "d45fd5508      15\n",
       "a165f5761      63\n",
       "3ecc09859     103\n",
       "9281abeea     119\n",
       "8675bec0b     207\n",
       "3a13ed79a      99\n",
       "f677d4d13       2\n",
       "71b203550      28\n",
       "137efaa80      12\n",
       "fb36b89d9      17\n",
       "7e293fbaf      39\n",
       "9fc776466      93\n",
       "Length: 4993, dtype: int64"
      ]
     },
     "execution_count": 13,
     "metadata": {},
     "output_type": "execute_result"
    }
   ],
   "source": [
    "df.nunique()"
   ]
  },
  {
   "cell_type": "code",
   "execution_count": 14,
   "metadata": {},
   "outputs": [
    {
     "data": {
      "text/plain": [
       "((4459, 4993), (4459, 4993))"
      ]
     },
     "execution_count": 14,
     "metadata": {},
     "output_type": "execute_result"
    }
   ],
   "source": [
    "df.shape , df.dropna().shape"
   ]
  },
  {
   "cell_type": "code",
   "execution_count": 16,
   "metadata": {},
   "outputs": [
    {
     "data": {
      "text/plain": [
       "(49342, 49342)"
      ]
     },
     "execution_count": 16,
     "metadata": {},
     "output_type": "execute_result"
    }
   ],
   "source": [
    "df_test.ID.nunique() , df_test.shape[0]"
   ]
  },
  {
   "cell_type": "code",
   "execution_count": 17,
   "metadata": {},
   "outputs": [
    {
     "data": {
      "text/plain": [
       "0    000d6aaf2\n",
       "1    000fbd867\n",
       "2    0027d6b71\n",
       "3    0028cbf45\n",
       "4    002a68644\n",
       "5    002dbeb22\n",
       "6    003925ac6\n",
       "7    003eb0261\n",
       "8    004b92275\n",
       "9    0067b4fef\n",
       "Name: ID, dtype: object"
      ]
     },
     "execution_count": 17,
     "metadata": {},
     "output_type": "execute_result"
    }
   ],
   "source": [
    "df.ID[:10]"
   ]
  },
  {
   "cell_type": "code",
   "execution_count": 18,
   "metadata": {},
   "outputs": [
    {
     "data": {
      "text/plain": [
       "0    000137c73\n",
       "1    00021489f\n",
       "2    0004d7953\n",
       "3    00056a333\n",
       "4    00056d8eb\n",
       "5    0005fc190\n",
       "6    000787e86\n",
       "7    0008510a0\n",
       "8    000895faf\n",
       "9    000986fba\n",
       "Name: ID, dtype: object"
      ]
     },
     "execution_count": 18,
     "metadata": {},
     "output_type": "execute_result"
    }
   ],
   "source": [
    "df_test.ID[:10]"
   ]
  }
 ],
 "metadata": {
  "kernelspec": {
   "display_name": "Python 3",
   "language": "python",
   "name": "python3"
  },
  "language_info": {
   "codemirror_mode": {
    "name": "ipython",
    "version": 3
   },
   "file_extension": ".py",
   "mimetype": "text/x-python",
   "name": "python",
   "nbconvert_exporter": "python",
   "pygments_lexer": "ipython3",
   "version": "3.6.5"
  }
 },
 "nbformat": 4,
 "nbformat_minor": 2
}
